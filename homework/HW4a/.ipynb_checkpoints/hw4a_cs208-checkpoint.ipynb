{
 "cells": [
  {
   "cell_type": "markdown",
   "metadata": {},
   "source": [
    "### HW4a\n",
    "\n",
    "\n",
    "#### CS208\n",
    "#### Lipika Ramaswamy\n",
    "\n",
    "https://github.com/lipikaramaswamy/cs208_lr/tree/master/homework/HW4a\n",
    "\n",
    "Collaborators: Bhaven Patel, Karina Huang and Anthony Rentsch"
   ]
  },
  {
   "cell_type": "markdown",
   "metadata": {},
   "source": [
    "### R Setup\n"
   ]
  },
  {
   "cell_type": "code",
   "execution_count": null,
   "metadata": {},
   "outputs": [],
   "source": [
    "## Setup\n",
    "# rm(list=ls())\n",
    "library(ggplot2)\n",
    "library(repr)"
   ]
  },
  {
   "cell_type": "markdown",
   "metadata": {},
   "source": [
    "### Problem 1: Learning Conjunctions in the SQ Model\n",
    "\n",
    "We are given a data set $D = ((x_1, y_1), \\ldots (x_n, y_n))$ where $x_i \\in \\{0,1\\}^d$ anf $y_i \\in \\{0,1\\}$. We want a (local or centralized) differentially private algorithm $M(D)$ that outputs a subset $\\hat{S} \\subseteq \\{ 1, \\ldots, d\\}$ of the variables such that conjunction of the $x$-variables in $\\hat{S}$ predicts the variable $y$ well. \n",
    "\n",
    "Specifically, following Valiant's probably approximately correct (PAC) model, we will measure utility as follows. Suppose that $D$ consists of $n$ iid draws from an unknown distribution $\\mathcal{P}$ on $\\{0,1\\}^d \\times \\{0,1\\}$. Furthermore, suppose that there is an (unknown) set $S \\subseteq \\{ 1, \\ldots, d\\}$ such that\n",
    "\n",
    "$$\\underset{(x,y)\\sim \\mathcal{P}}{Pr} \\big[ y = \\underset{j\\in S}{\\bigwedge} x [ j ] \\big] = 1.$$\n",
    "\n",
    "That is, $y$ can be perfectly predicted by some conjunction. (Note that here and below, the notation (x,y) refers to a single labelled example drawn from $\\mathcal{P}$, not a dataset of $n$ such values. We will use $D=((x_1, y_1), \\ldots, (x_n, y_n))$ for the dataset). \n",
    "\n",
    "Then the goal of $M$ is to output $\\hat{S}$ that minimizes the expected classification error:\n"
   ]
  },
  {
   "cell_type": "markdown",
   "metadata": {},
   "source": [
    " $\\max\\limits_{1 \\leq j \\leq n}$."
   ]
  },
  {
   "cell_type": "markdown",
   "metadata": {},
   "source": [
    "### "
   ]
  },
  {
   "cell_type": "code",
   "execution_count": null,
   "metadata": {},
   "outputs": [],
   "source": []
  }
 ],
 "metadata": {
  "kernelspec": {
   "display_name": "R",
   "language": "R",
   "name": "ir"
  },
  "language_info": {
   "codemirror_mode": "r",
   "file_extension": ".r",
   "mimetype": "text/x-r-source",
   "name": "R",
   "pygments_lexer": "r",
   "version": "3.5.2"
  }
 },
 "nbformat": 4,
 "nbformat_minor": 2
}
