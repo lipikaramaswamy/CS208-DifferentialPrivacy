{
 "cells": [
  {
   "cell_type": "markdown",
   "metadata": {},
   "source": [
    "### HW2\n",
    "\n",
    "#### CS208\n",
    "#### Lipika Ramaswamy\n",
    "\n",
    "https://github.com/lipikaramaswamy/cs208_lr/tree/master/homework/HW3"
   ]
  },
  {
   "cell_type": "markdown",
   "metadata": {},
   "source": [
    "### R imports"
   ]
  },
  {
   "cell_type": "code",
   "execution_count": 59,
   "metadata": {},
   "outputs": [],
   "source": [
    "## Setup\n",
    "rm(list=ls())\n",
    "library(ggplot2)"
   ]
  },
  {
   "cell_type": "code",
   "execution_count": 26,
   "metadata": {},
   "outputs": [],
   "source": [
    "### Using James's functions\n",
    "\n",
    "# Random draw from Laplace distribution\n",
    "#\n",
    "# mu numeric, center of the distribution\n",
    "# b numeric, spread\n",
    "# size integer, number of draws\n",
    "# \n",
    "# return Random draws from Laplace distribution\n",
    "# example:\n",
    "# \n",
    "# rlap(size=1000)\n",
    "\n",
    "rlap = function(mu=0, b=1, size=1) {\n",
    "    p <- runif(size) - 0.5\n",
    "    draws <- mu - b * sgn(p) * log(1 - 2 * abs(p))\n",
    "    return(draws)\n",
    "}\n",
    "\n",
    "\n",
    "# Probability density for Laplace distribution\n",
    "#\n",
    "# x numeric, value\n",
    "# mu numeric, center of the distribution\n",
    "# b numeric, spread\n",
    "# \n",
    "# return Density for elements of x\n",
    "# example:\n",
    "# \n",
    "# x <- seq(-3, 3, length.out=61)\n",
    "# dlap(x)\n",
    "\n",
    "dlap <- function(x, mu=0, b=1) {\n",
    "    dens <- 0.5 * b * exp(-1 * abs(x - mu) / b)\n",
    "    return(dens)\n",
    "}\n",
    "\n",
    "\n",
    "# Laplace Cumulative Distribution Function\n",
    "# \n",
    "# Determines the probability a draw from a LaPlace distribution is less than \n",
    "#    or equal to the specified value.\n",
    "#\n",
    "# x Numeric, the value(s) at which the user wants to know the CDF height.\n",
    "# mu Numeric, the center of the LaPlace distribution, defaults to 0.\n",
    "# b Numeric, the spread of the LaPlace distribution, defaults to 1.\n",
    "# \n",
    "# return Probability the LaPlace draw is less than or equal to \\code{x}.\n",
    "# example:\n",
    "# \n",
    "# x <- 0\n",
    "# plap(x)\n",
    "\n",
    "plap <- function(x, mu=0, b=1) {\n",
    "    cdf <- 0.5 + 0.5 * sgn(x - mu) * (1 - exp(-1 * (abs(x - mu) / b)))\n",
    "    return(cdf)\n",
    "}\n",
    "\n",
    "\n",
    "# Quantile function for Laplace distribution\n",
    "#\n",
    "# p Numeric, vector of probabilities\n",
    "# mu numeric, center of the distribution\n",
    "# b numeric, spread\n",
    "# return Quantile function\n",
    "# example:\n",
    "#\n",
    "# probs <- c(0.05, 0.50, 0.95)\n",
    "# qlap(probs)\n",
    "\n",
    "qlap <- function(p, mu=0, b=1) {\n",
    "    q <- ifelse(p < 0.5, mu + b * log(2 * p), mu - b * log(2 - 2 * p))\n",
    "    return(q)\n",
    "}\n",
    "\n",
    "# Sign function\n",
    "# \n",
    "# Function to determine what the sign of the passed values should be.\n",
    "#\n",
    "# x numeric, value or vector or values\n",
    "# return The sign of passed values\n",
    "# example:\n",
    "#\n",
    "# sgn(rnorm(10))\n",
    "\n",
    "\n",
    "sgn <- function(x) {\n",
    "    return(ifelse(x < 0, -1, 1))\n",
    "}"
   ]
  },
  {
   "cell_type": "markdown",
   "metadata": {},
   "source": [
    "### Problem 1: \n",
    "\n",
    "### (a)\n",
    "<img src=\"q1_a.png\" alt=\"Drawing\" style=\"width: 700px;\">\n"
   ]
  },
  {
   "cell_type": "markdown",
   "metadata": {},
   "source": [
    "First, we will show that the transformation of trimming data is 1-Lipschitz. Then, we will use the fact that the mechanism of Laplace noise added to the mean is $\\epsilon$-DP and that the composition of this mechanism and the transformation is $(1\\times \\epsilon)$-DP.\n",
    "\n",
    "**1:**  \n",
    "\n",
    "Consider the ordered datasets:\n",
    "$x = \\{x_1, x_2,\\ldots, x_{n-1}, x_n \\}$ of size n and $x = \\{x_2, x_3,\\ldots, x_{n}, x_{n+1} \\}$ of size n, where $x$ and $x'$ difer on one element only corresponding to the most extreme change in the mean. So, $d(x,x')=1$.\n",
    "  \n",
    "Let T be the transformation of trimming the data to the middle 90 percentile.  Let $x_{p^5}$ be the data point at the 5th percentile and $x_{p^{95}}$ be the data point at the 95th percentile. Then, $T(x) = \\{ x_{p^5}, \\ldots, x_{p^{95}} \\}$ and $T(x') = \\{ x_{p^5 + 1}, \\ldots, x_{p^{95} + 1} \\}$. These two datasets only differ on one element, so $d(T(x),T(x'))=1$.\n",
    "\n",
    "By definition, a mapping from datasets to datasets is c-Lipshitz iff: \n",
    "$\\forall x, x', d(T(x), T(x')) \\le c \\cdot d(x, x')$.\n",
    "\n",
    "For arbitrary $x, x'$, we showed that $c=1$. Hence, by definition, the mapping T is 1-Lipschitz.\n",
    "\n",
    "**2:**  \n",
    "\n",
    "Consider the mechanism below:\n",
    "$$ M' = \\frac{1}{n'} \\cdot \\left( \\sum_{i = 1}^{n'} x_i \\right) + Lap \\left( \\frac{D}{\\varepsilon n'} \\right)$$\n",
    "Adding Laplace noise with scale equal to the global sensitivity of the mechanism divided by the privacy loss, i.e. $\\frac{GS}{\\varepsilon}$, to a mean is $\\varepsilon$-DP, as shown in class and referred to in the last homework. Here, the global sensitivity for the mean is $\\frac{D-0}{n'}$, where n' is the size of the dataset. The noise is being drawn from a Laplace distribution with scale $\\frac{D}{\\varepsilon n'}$. Thus, this mechanism is $\\varepsilon$-DP.\n",
    "\n",
    "**3:**\n",
    "\n",
    "By a lemma, we know that if a mechanism M' is $\\varepsilon$-DP and a transformation T is c-Lipschitz, then M'$\\circ $T is a $c \\varepsilon$-DP mechanism.\n",
    "\n",
    "Here, we have the above mechanism M' and transformation T, which is 1-Lipschitz, so the composition is $\\varepsilon$-DP, i.e.:  \n",
    "$$M(x) = M' \\circ  T(x) = \\frac{1}{.9n'} \\cdot \\left( \\sum_{P_{.05} \\le x_i \\le P_{.95}} x_i \\right) + Lap \\left( \\frac{D}{.9 \\varepsilon n'} \\right) \\text{ is $\\varepsilon$-DP.}$$"
   ]
  },
  {
   "cell_type": "code",
   "execution_count": 61,
   "metadata": {},
   "outputs": [],
   "source": [
    "## clip variable to a range\n",
    "trim <- function(x, lower, upper){\n",
    "    x.trim <- x\n",
    "    x.trim <- x.trim[x.trim<upper]\n",
    "    x.trim <- x.trim[x.trim>lower]\n",
    "    return(x.trim)\n",
    "}\n",
    "\n",
    "## DP trimmed mean release function\n",
    "trimmedMeanRelease <- function(x, epsilon, D, n){\n",
    "\n",
    "    upper <- quantile(x, probs = 0.95)\n",
    "    lower <- quantile(x, probs = 0.05)\n",
    "    \n",
    "    trimmed.x <- trim(x, lower, upper)\n",
    "    \n",
    "    sensitivity <- D / (length(trimmed.x))\n",
    "    scale <- sensitivity / epsilon\n",
    "    \n",
    "    sensitiveValue <- mean(trimmed.x)\n",
    "    \n",
    "    DPrelease <- sensitiveValue + rlap(mu=0, b=scale, size=1)\n",
    "    \n",
    "    return(list(release=DPrelease, true=sensitiveValue, n_rows = length(trimmed.x)))\n",
    "}"
   ]
  },
  {
   "cell_type": "code",
   "execution_count": 62,
   "metadata": {},
   "outputs": [
    {
     "data": {
      "text/html": [
       "<dl>\n",
       "\t<dt>$release</dt>\n",
       "\t\t<dd>53.3985708530708</dd>\n",
       "\t<dt>$true</dt>\n",
       "\t\t<dd>53.0888888888889</dd>\n",
       "\t<dt>$n_rows</dt>\n",
       "\t\t<dd>90</dd>\n",
       "</dl>\n"
      ],
      "text/latex": [
       "\\begin{description}\n",
       "\\item[\\$release] 53.3985708530708\n",
       "\\item[\\$true] 53.0888888888889\n",
       "\\item[\\$n\\_rows] 90\n",
       "\\end{description}\n"
      ],
      "text/markdown": [
       "$release\n",
       ":   53.3985708530708\n",
       "$true\n",
       ":   53.0888888888889\n",
       "$n_rows\n",
       ":   90\n",
       "\n",
       "\n"
      ],
      "text/plain": [
       "$release\n",
       "[1] 53.39857\n",
       "\n",
       "$true\n",
       "[1] 53.08889\n",
       "\n",
       "$n_rows\n",
       "[1] 90\n"
      ]
     },
     "metadata": {},
     "output_type": "display_data"
    }
   ],
   "source": [
    "# Testing trimmed mean\n",
    "\n",
    "# make some fake natural number valued data of size 100\n",
    "x.testing <- sample.int(100, 100, replace = TRUE)\n",
    "\n",
    "# check that fn works\n",
    "trimmedMeanRelease(x.testing, 1, 100 , 100)"
   ]
  },
  {
   "cell_type": "markdown",
   "metadata": {},
   "source": [
    "\n",
    "### (b)\n",
    "<img src=\"q1_b.png\" alt=\"Drawing\" style=\"width: 700px;\">\n"
   ]
  },
  {
   "cell_type": "markdown",
   "metadata": {},
   "source": [
    "## Is it sufficient here to show that c = 0.1n, so we get $0.1n\\varepsilon$-DP?"
   ]
  },
  {
   "cell_type": "markdown",
   "metadata": {},
   "source": [
    "\n",
    "### (c)\n",
    "<img src=\"q1_c.png\" alt=\"Drawing\" style=\"width: 700px;\">\n"
   ]
  },
  {
   "cell_type": "markdown",
   "metadata": {},
   "source": [
    "An exponential mechanism to release the median is one that releases an estimate of the 50th percentile of the dataset. We now alter this mechanism to release an estimate of the $t^{th}$ percentile "
   ]
  },
  {
   "cell_type": "code",
   "execution_count": 63,
   "metadata": {},
   "outputs": [
    {
     "data": {
      "text/html": [
       "11"
      ],
      "text/latex": [
       "11"
      ],
      "text/markdown": [
       "11"
      ],
      "text/plain": [
       "[1] 11"
      ]
     },
     "metadata": {},
     "output_type": "display_data"
    }
   ],
   "source": [
    "bins <- (floor(0):ceiling(10))\n",
    "length(bins)"
   ]
  },
  {
   "cell_type": "code",
   "execution_count": 64,
   "metadata": {},
   "outputs": [],
   "source": [
    "## Bound/Censor/Clip a variable to a range\n",
    "clip <- function(x, lower, upper){\n",
    "\tx.clipped <- x\n",
    "\tx.clipped[x.clipped<lower] <- lower\n",
    "\tx.clipped[x.clipped>upper] <- upper\n",
    "\treturn(x.clipped)\t\n",
    "}"
   ]
  },
  {
   "cell_type": "code",
   "execution_count": 132,
   "metadata": {},
   "outputs": [],
   "source": [
    "percentileRelease <- function(x, lower, upper, nbins=0, epsilon, t){\n",
    "    # get length of data\n",
    "    n <- length(x)\n",
    "    \n",
    "    # populate nbins\n",
    "    bins <- sort(x)\n",
    "    nbins <- length(bins)\n",
    "    \n",
    "    # clip the data \n",
    "    sensitiveValue <- quantile(x, probs = t)\n",
    "    \n",
    "    # empty vector to store utility scores\n",
    "#     quality <- rep(NA, nbins)\n",
    "    likelihoods <- rep(NA, nbins)\n",
    "    \n",
    "    # calculate utility scores\n",
    "    for(i in 1:length(likelihoods)){\n",
    "        # multiply through by n to make GS_u = 1\n",
    "        utility <- n - abs(n*t - i)\n",
    "        dist <- 1\n",
    "        if (i < n){\n",
    "            # accounting for values that aren't present in the data and weighting the bins\n",
    "            dist = abs(x[i] - x[i+1]) + 1\n",
    "        } \n",
    "        likelihoods[i] <-  dist * exp(epsilon * utility)/2\n",
    "        \n",
    "    }\n",
    "    \n",
    "    # calculate probability\n",
    "    probabilities <- likelihoods/sum(likelihoods)\n",
    "    \n",
    "    # compare probability vector to a random uniform draw between 0 and 1\n",
    "    flag <- runif(n=1, min=0, max=1) < cumsum(probabilities)\n",
    "        \n",
    "    ## sample uniformly from the bin\n",
    "    indices.of.bins <- which(flag == 1)\n",
    "    \n",
    "    min.runif <- bins[indices.of.bins[1]] \n",
    "    max.runif <- bins[indices.of.bins[1] + 1] \n",
    "    \n",
    "    DPrelease <- runif(n=1, min=min.runif, max=max.runif)\n",
    "    \n",
    "    return(list(release=DPrelease, true=sensitiveValue))\n",
    "}\n"
   ]
  },
  {
   "cell_type": "code",
   "execution_count": 115,
   "metadata": {},
   "outputs": [],
   "source": [
    "# x <- sample.int(100, 100, replace = TRUE)"
   ]
  },
  {
   "cell_type": "code",
   "execution_count": 143,
   "metadata": {},
   "outputs": [],
   "source": [
    "# percentileRelease(x, lower = 1, upper = 100, nbins=10, 0.5, t = 0.89)"
   ]
  },
  {
   "cell_type": "code",
   "execution_count": 140,
   "metadata": {},
   "outputs": [],
   "source": [
    "## Testing distribution of \n",
    "\n",
    "history <- rep(NA, 10000)\n",
    "trueHistory <- rep(NA, 10000)\n",
    "for(i in 1:10000){\n",
    "    #make fake data\n",
    "    x <- sample.int(100, 100, replace = TRUE)\n",
    "    \n",
    "    #do percentile release - 10th percentile\n",
    "    release <- percentileRelease(x, 1, 100, nbins=0, epsilon = 0.5, t = 0.1)\n",
    "    history[i] <- release$release\n",
    "    trueHistory[i] <- release$true\n",
    "    \n",
    "}"
   ]
  },
  {
   "cell_type": "code",
   "execution_count": 141,
   "metadata": {},
   "outputs": [
    {
     "data": {
      "image/png": "[encoded data removed]",
      "text/plain": [
       "Plot with title “Histogram of history”"
      ]
     },
     "metadata": {},
     "output_type": "display_data"
    }
   ],
   "source": [
    "hist(history)"
   ]
  },
  {
   "cell_type": "markdown",
   "metadata": {},
   "source": [
    "### Problem 2: \n",
    "\n",
    "<img src=\"q2.png\" alt=\"Drawing\" style=\"width: 700px;\">\n"
   ]
  },
  {
   "cell_type": "code",
   "execution_count": 189,
   "metadata": {},
   "outputs": [],
   "source": [
    "# Global Sensitivity of sums of Boolean predicates \n",
    "#          - changing one row changes the sum by at most 1\n",
    "gs = 1\n",
    "\n",
    "# Set Params\n",
    "epsilon = 1\n",
    "delta = 1e-09\n",
    "max_k = 100\n",
    "\n",
    "store_sds = matrix(NA, nrow = max_k, ncol = 3)\n",
    "\n",
    "for(k in 1:max_k){\n",
    "    # calculate the epsilons for each release\n",
    "    eps_0_comp = epsilon/k\n",
    "    eps_0_adv = epsilon/sqrt(2 * k * log(1/delta))\n",
    "    \n",
    "    # calculate optimal epsilon using PSI Library\n",
    "    init <- rep(c(0, 0), k )\n",
    "    params <- matrix(init, nrow=k, ncol=2, byrow=TRUE)\n",
    "    inverse <- PSIlence:::update_parameters(params=params, hold=0, eps=epsilonGlobal, del=deltaGlobal)\n",
    "    eps_0_opt = inverse[1,1]\n",
    "    \n",
    "    # calculate standard deviation\n",
    "    sds = sqrt(2) * c(gs/eps_0_comp, gs/eps_0_adv, gs/eps_0_opt)\n",
    "    \n",
    "    # store standard deviation\n",
    "    store_sds[k, ] = sds\n",
    "}"
   ]
  },
  {
   "cell_type": "code",
   "execution_count": 212,
   "metadata": {},
   "outputs": [],
   "source": [
    "list_of_k = seq(1,100, 1)\n",
    "sds.for.plot = data.frame(list_of_k, store_sds[,1], store_sds[,2], store_sds[,3])\n",
    "names(sds.for.plot) <- c(\"list_of_k\", \"basic_comp\", \"advanced_comp\", \"optimal_comp\")\n",
    "\n",
    "## finding k where advanced and optimal comp yield lower sd for lap noise as cmopared to basic comp\n",
    "k.where.adv.comp.wins = sds.for.plot[sds.for.plot$advanced_comp<sds.for.plot$basic_comp,][1,1]\n",
    "k.where.opt.comp.wins = sds.for.plot[sds.for.plot$optimal_comp<sds.for.plot$basic_comp,][1,1]\n",
    "\n",
    "# plot stuff\n",
    "p1 <- ggplot(sds.for.plot) + \n",
    "    geom_line(aes(x=sds.for.plot$list_of_k, y=sds.for.plot$basic_comp, color = \"Basic Composition\")) +\n",
    "    geom_line(aes(x=sds.for.plot$list_of_k, y=sds.for.plot$advanced_comp, color='Advanced Composition')) +\n",
    "    geom_line(aes(x=sds.for.plot$list_of_k, y=sds.for.plot$optimal_comp, color='Optimal Composition')) +\n",
    "    labs(x = \"k\", y = 'Standard Deviation', title = \n",
    "         'Standard Deviation of Laplace noise for increasing k') + \n",
    "    theme(plot.title = element_text(hjust = 0.5)) + \n",
    "    geom_vline(aes(xintercept=k.where.adv.comp.wins,),linetype = \"longdash\", alpha = 0.3) + \n",
    "    geom_vline(aes(xintercept=k.where.opt.comp.wins,),linetype = \"longdash\", alpha = 0.3)"
   ]
  },
  {
   "cell_type": "code",
   "execution_count": 213,
   "metadata": {},
   "outputs": [
    {
     "data": {
      "image/png": "[encoded data removed]",
      "text/plain": [
       "plot without title"
      ]
     },
     "metadata": {},
     "output_type": "display_data"
    }
   ],
   "source": [
    "options(repr.plot.width=8, repr.plot.height=4)\n",
    "p1"
   ]
  },
  {
   "cell_type": "markdown",
   "metadata": {},
   "source": [
    "The plot of standard deviation of the Laplace noise added for increasing number of count queries released (k) shows that basic composition performs the worst, with standard deviation of the noise increasing linearly with the number of queries. Advanced composition performs worse than basic composition for a small number of queries (k < 42), but yields lower standard deviation needed for the Laplace noise, which results in released counts having higher utility. Similarly, optimal composition adds noise with the same standard deviation as basic composition up until k = 21, after which it decreases, yielding higher utility of the released counts."
   ]
  },
  {
   "cell_type": "markdown",
   "metadata": {},
   "source": [
    "### Problem 3: \n",
    "\n",
    "<img src=\"q3.png\" alt=\"Drawing\" style=\"width: 700px;\">\n"
   ]
  },
  {
   "cell_type": "code",
   "execution_count": 57,
   "metadata": {},
   "outputs": [],
   "source": [
    "library(\"foreign\")\n",
    "PUMSdata <- read.csv(file=\n",
    "                     \"https://raw.githubusercontent.com/privacytoolsproject/cs208/master/data/MaPUMS5full.csv\")     \n",
    "\n",
    "data.educ <- PUMSdata$educ\n",
    "data.inc <- PUMSdata$income\n",
    "data.age <- PUMSdata$age"
   ]
  },
  {
   "cell_type": "code",
   "execution_count": 58,
   "metadata": {},
   "outputs": [],
   "source": [
    "sgn <- function(x) {\n",
    "    return(ifelse(x < 0, -1, 1))\n",
    "}\n",
    "\n",
    "## Bound/Censor/Clip a variable to a range\n",
    "clip <- function(x, lower, upper){\n",
    "\tx.clipped <- x\n",
    "\tx.clipped[x.clipped<lower] <- lower\n",
    "\tx.clipped[x.clipped>upper] <- upper\n",
    "\treturn(x.clipped)\t\n",
    "}\n",
    "\n",
    "## Sample with replacement from a vector\n",
    "bootstrap <- function(x, y=NULL, n){\n",
    "\tindex <- sample(x=1:length(x), size=n, replace=TRUE) \n",
    "\n",
    "\tif(is.null(y)){\n",
    "\t\treturn(x[index])\n",
    "\t}else{\n",
    "\t\treturn(list(x=x[index], y=y[index]))\n",
    "\t}\n",
    "}"
   ]
  },
  {
   "cell_type": "code",
   "execution_count": 63,
   "metadata": {},
   "outputs": [],
   "source": [
    "## Differentially private histogram for continuous\n",
    "x1x2yHistogramRelease <- function(y, x1, x2,\n",
    "                                ylower, yupper,\n",
    "                                x1lower, x1upper,\n",
    "                                x2lower, x2upper,\n",
    "                                x1nbins = 0,\n",
    "                                x2nbins = 0,\n",
    "                                ynbins = 0,\n",
    "                                epsilon){\n",
    "    \n",
    "    # get length of df essentially\n",
    "    n <- nrow(x1)\n",
    "    \n",
    "    # populate x1 bins\n",
    "    if(x1nbins==0){\n",
    "        \n",
    "        # get lower and upper values as integers\n",
    "        x1lower <- floor(x1lower)\n",
    "        x1upper <- ceiling(x1upper)\n",
    "        \n",
    "        # make vec of bins\n",
    "        x1bins <- x1lower:(x1upper+1)    \n",
    "        \n",
    "        # extract # bins\n",
    "        x1nbins <- length(x1bins)-1\n",
    "        \n",
    "        # distance between bins is granularity \n",
    "        x1granularity <- 1\n",
    "        \n",
    "        # just a codebook of bins used that will be output\n",
    "        x1codebook <- x1bins[1:x1nbins]\n",
    "        \n",
    "    } else {\n",
    "        \n",
    "        # make a sequence of x1 values spaced out based on number of bins\n",
    "        x1bins <- seq(from=x1lower, to=x1upper, length=x1nbins+1) # length is nbins + 1 because \n",
    "                                                                # we're looking at the number of endpoints of bins\n",
    "        \n",
    "        # get granularity\n",
    "        x1granularity <- (x1upper-x1lower)/x1nbins\n",
    "        \n",
    "        # choose last elt of x1bins, which is the endpoint, \n",
    "        # and add granularity to it to capture the endpoints of the data\n",
    "        x1bins[x1nbins+1] <-  x1bins[x1nbins+1] + x1granularity\n",
    "        \n",
    "        # Release midpoints of bins\n",
    "        x1codebook <- x1bins[1:x1nbins] + 0.5*x1granularity\n",
    "    }\n",
    "    \n",
    "    # populate x2 bins\n",
    "    if(x2nbins==0){\n",
    "        \n",
    "        # get lower and upper values as integers\n",
    "        x2lower <- floor(x2lower)\n",
    "        x2upper <- ceiling(x2upper)\n",
    "        \n",
    "        # make vec of bins\n",
    "        x2bins <- x2lower:(x2upper+1)    \n",
    "        \n",
    "        # extract # bins\n",
    "        x2nbins <- length(x2bins)-1\n",
    "        \n",
    "        # distance between bins is granularity \n",
    "        x2granularity <- 1\n",
    "        \n",
    "        # just a codebook of bins used that will be output\n",
    "        x2codebook <- x2bins[1:x2nbins]\n",
    "        \n",
    "    } else {\n",
    "        \n",
    "        # make a sequence of x1 values spaced out based on number of bins\n",
    "        x2bins <- seq(from=x1lower, to=x1upper, length=x1nbins+1) # length is nbins + 1 because \n",
    "                                                                # we're looking at the number of endpoints of bins\n",
    "        \n",
    "        # get granularity\n",
    "        x2granularity <- (x2upper-x2lower)/x2nbins\n",
    "        \n",
    "        # choose last elt of x1bins, which is the endpoint, \n",
    "        # and add granularity to it to capture the endpoints of the data\n",
    "        x2bins[x2nbins+1] <-  x2bins[x2nbins+1] + x2granularity\n",
    "        \n",
    "        # Release midpoints of bins\n",
    "        x2codebook <- x2bins[1:x2nbins] + 0.5*x2granularity\n",
    "    }\n",
    "    \n",
    "    if(ynbins==0){\n",
    "        \n",
    "        # get lower and upper values as integers\n",
    "        ylower <- floor(ylower)\n",
    "        yupper <- ceiling(yupper)\n",
    "        \n",
    "        # make vec of bins\n",
    "        ybins <- ylower:(yupper+1)    \n",
    "        \n",
    "        # extract # bins\n",
    "        ynbins <- length(ybins)-1\n",
    "        \n",
    "        # distance between bins is granularity \n",
    "        ygranularity <- 1\n",
    "        \n",
    "        # just a codebook of bins used that will be output\n",
    "        ycodebook <- ybins[1:ynbins]\n",
    "        \n",
    "    } else {\n",
    "            \n",
    "        # make a sequence of y values spaced out based on number of bins\n",
    "        ybins <- seq(from=ylower, to=yupper, length=ynbins+1) # length is nbins + 1 because \n",
    "                                                                # we're looking at the number of endpoints of bins\n",
    "        \n",
    "        # get granularity\n",
    "        ygranularity <- (yupper-ylower)/ynbins\n",
    "        \n",
    "        # choose last elt of ybins, which is the endpoint, \n",
    "        # and add granularity to it to capture the endpoints of the data\n",
    "        ybins[ynbins+1] <-  ybins[ynbins+1] + ygranularity\n",
    "        \n",
    "        # Release midpoints of bins\n",
    "        ycodebook <- ybins[1:ynbins] + 0.5*ygranularity    \n",
    "\n",
    "    }\n",
    "    \n",
    "    # clip data\n",
    "    x1.clipped <- clip(x=x1, lower=x1lower, upper=x1upper)\n",
    "    x2.clipped <- clip(x=x2, lower=x2lower, upper=x2upper)\n",
    "    y.clipped <- clip(x=y, lower=ylower, upper=yupper)\n",
    "\n",
    "    # sensitivity of histogram release as in the change model, \n",
    "    #one person moves from one bin to another, changing both\n",
    "    sensitivity <- 2\n",
    "    scale <- sensitivity / epsilon\n",
    "\n",
    "    sensitiveValue <- DPrelease <- matrix(NA, nrow=x1nbins * x2nbins * ynbins, ncol=4)\n",
    "    \n",
    "    counter = 1\n",
    "    for(i in 1:x1nbins){\n",
    "        for (j in 1:x2nbins){\n",
    "            for (k in 1:ynbins){\n",
    "\n",
    "                # calculate sensitive count in bin\n",
    "                sensitiveBinVal <-  sum(x1.clipped >= x1bins[i] \n",
    "                                    & x1.clipped < x1bins[i+1] \n",
    "                                    & x2.clipped >= x2bins[j] \n",
    "                                    & x2.clipped < x2bins[j+1] \n",
    "                                    & y.clipped >= ybins[k] \n",
    "                                    & y.clipped < ybins[k+1])\n",
    "                \n",
    "                # add noise to sensitive val\n",
    "                dpBinVal <- sensitiveBinVal + rlap(mu = 0, b = scale, size = 1)\n",
    "                \n",
    "                # populate matrices (sensitive and DP) with the bin value for x1, x2 and y\n",
    "                sensitiveValue[counter,] <- c(x1codebook[i], x2codebook[j], ycodebook[k], sensitiveBinVal)\n",
    "                DPrelease[counter,] <- c(x1codebook[i], x2codebook[j], ycodebook[k], dpBinVal)\n",
    "                \n",
    "                # update counter\n",
    "                counter <- counter + 1\n",
    "                \n",
    "            }\n",
    "        }\n",
    "    }\n",
    "\n",
    "    return(list(release=DPrelease, \n",
    "                true=sensitiveValue, \n",
    "                x1codebook=x1codebook, x2codebook=x2codebook, \n",
    "                ycodebook=ycodebook))\n",
    "}"
   ]
  },
  {
   "cell_type": "code",
   "execution_count": 64,
   "metadata": {},
   "outputs": [
    {
     "data": {
      "text/plain": [
       "[1] \"2019-03-31 17:51:57 EDT\""
      ]
     },
     "metadata": {},
     "output_type": "display_data"
    },
    {
     "data": {
      "text/plain": [
       "[1] \"2019-03-31 17:53:56 EDT\""
      ]
     },
     "metadata": {},
     "output_type": "display_data"
    }
   ],
   "source": [
    "# Sys.time()\n",
    "# check <- x1x2yHistogramRelease(y = data.inc, x1 = data.age, x2 = data.educ,\n",
    "#                                # cap income at 1 mil\n",
    "#                                 ylower = 0, yupper = 1e+06,\n",
    "#                                # set age range b/w 18 and 100, based on age range for Census data collection\n",
    "#                                 x1lower = 18, x1upper = 100,\n",
    "#                                # education range based on codes\n",
    "#                                 x2lower = 1, x2upper = 16,\n",
    "#                                 x1nbins = 0,\n",
    "#                                 x2nbins = 0,\n",
    "#                                 ynbins = 10,\n",
    "#                                 epsilon = 0.5)\n",
    "# Sys.time()"
   ]
  },
  {
   "cell_type": "code",
   "execution_count": 69,
   "metadata": {},
   "outputs": [],
   "source": [
    "## Post-process a vector or matrix of DP count releases, into probabilities\n",
    "normalize <- function(x){\n",
    "    x[x<0] <- 0\n",
    "    x <- x/sum(x)\n",
    "    return(x)\n",
    "}\n",
    "\n",
    "data.educ.lm <- clip(data.educ, lower=1, upper=16)\n",
    "data.inc.lm <- clip(data.inc, lower=1, upper=1e+06)\n",
    "data.age.lm <- clip(data.age, lower=18, upper=100)\n",
    "\n",
    "true.output <- lm(data.inc.lm ~ data.educ.lm + data.age.lm)\n",
    "true.slope <- coef(true.output)[2]\n",
    "\n"
   ]
  },
  {
   "cell_type": "code",
   "execution_count": 86,
   "metadata": {},
   "outputs": [],
   "source": [
    "# syn.prob <- as.vector(normalize(check$release[,4]))\n",
    "# syn.sample.indices <- sample(x = 1:nrow(check$release), \n",
    "#                              size = nrow(check$release), \n",
    "#                              prob = syn.prob, \n",
    "#                              replace = TRUE)\n",
    "\n",
    "# # sample synthetic data\n",
    "# syn.data <- check$release[syn.sample.indices, ]\n",
    "\n",
    "# output <- lm(syn.data[,3] ~ syn.data[,1] + syn.data[,2])"
   ]
  },
  {
   "cell_type": "code",
   "execution_count": 90,
   "metadata": {},
   "outputs": [],
   "source": [
    "# output$coef[3]"
   ]
  },
  {
   "cell_type": "code",
   "execution_count": null,
   "metadata": {},
   "outputs": [],
   "source": [
    "nsims <- 30\n",
    "\n",
    "store.betas <-matrix(NA, nrow=nsims, ncol=3)\n",
    "\n",
    "for(i in 1:nsims){\n",
    "    Sys.time()\n",
    "    print(i)\n",
    "    out1 <- x1x2yHistogramRelease(y = data.inc, x1 = data.age, x2 = data.educ,\n",
    "                                   # cap income at 1 mil\n",
    "                                    ylower = 0, yupper = 1e+06,\n",
    "                                   # set age range b/w 18 and 100, based on age range for Census data collection\n",
    "                                    x1lower = 18, x1upper = 100,\n",
    "                                   # education range based on codes\n",
    "                                    x2lower = 1, x2upper = 16,\n",
    "                                    x1nbins = 0,\n",
    "                                    x2nbins = 0,\n",
    "                                    ynbins = 30,\n",
    "                                    epsilon = 1)\n",
    "    # get probabilities\n",
    "    syn.prob <- as.vector(normalize(out1$release[,4]))\n",
    "    syn.sample.indices <- sample(x = 1:nrow(out1$release),\n",
    "                                 size = nrow(out1$release),\n",
    "                                 prob = syn.prob,\n",
    "                                 replace = TRUE)\n",
    "    \n",
    "    # sample synthetic data\n",
    "    syn.data <- out1$release[syn.sample.indices, ]\n",
    "\n",
    "    output <- lm(syn.data[,3] ~ syn.data[,1] + syn.data[,2])\n",
    "\n",
    "    store.betas[i,1] <- output$coef[1]\n",
    "    store.betas[i,2] <- output$coef[2]\n",
    "    store.betas[i,3] <- output$coef[3]\n",
    "    Sys.time()\n",
    "}"
   ]
  },
  {
   "cell_type": "code",
   "execution_count": 126,
   "metadata": {},
   "outputs": [
    {
     "data": {
      "text/html": [
       "<table>\n",
       "<tbody>\n",
       "\t<tr><td>37201.24 </td><td>1506.107 </td><td>-2352.758</td></tr>\n",
       "\t<tr><td>54757.45 </td><td>1371.287 </td><td>-3509.463</td></tr>\n",
       "\t<tr><td>59008.27 </td><td>1369.881 </td><td>-3781.906</td></tr>\n",
       "\t<tr><td>67038.23 </td><td>1335.868 </td><td>-4304.832</td></tr>\n",
       "\t<tr><td>42410.91 </td><td>1508.526 </td><td>-2673.438</td></tr>\n",
       "\t<tr><td>48352.36 </td><td>1262.562 </td><td>-2362.786</td></tr>\n",
       "\t<tr><td>58676.85 </td><td>1306.347 </td><td>-3590.653</td></tr>\n",
       "\t<tr><td>66788.10 </td><td>1253.962 </td><td>-3955.556</td></tr>\n",
       "\t<tr><td>50497.06 </td><td>1304.466 </td><td>-2755.515</td></tr>\n",
       "\t<tr><td>54964.62 </td><td>1397.280 </td><td>-3455.741</td></tr>\n",
       "</tbody>\n",
       "</table>\n"
      ],
      "text/latex": [
       "\\begin{tabular}{lll}\n",
       "\t 37201.24  & 1506.107  & -2352.758\\\\\n",
       "\t 54757.45  & 1371.287  & -3509.463\\\\\n",
       "\t 59008.27  & 1369.881  & -3781.906\\\\\n",
       "\t 67038.23  & 1335.868  & -4304.832\\\\\n",
       "\t 42410.91  & 1508.526  & -2673.438\\\\\n",
       "\t 48352.36  & 1262.562  & -2362.786\\\\\n",
       "\t 58676.85  & 1306.347  & -3590.653\\\\\n",
       "\t 66788.10  & 1253.962  & -3955.556\\\\\n",
       "\t 50497.06  & 1304.466  & -2755.515\\\\\n",
       "\t 54964.62  & 1397.280  & -3455.741\\\\\n",
       "\\end{tabular}\n"
      ],
      "text/markdown": [
       "\n",
       "| 37201.24  | 1506.107  | -2352.758 | \n",
       "| 54757.45  | 1371.287  | -3509.463 | \n",
       "| 59008.27  | 1369.881  | -3781.906 | \n",
       "| 67038.23  | 1335.868  | -4304.832 | \n",
       "| 42410.91  | 1508.526  | -2673.438 | \n",
       "| 48352.36  | 1262.562  | -2362.786 | \n",
       "| 58676.85  | 1306.347  | -3590.653 | \n",
       "| 66788.10  | 1253.962  | -3955.556 | \n",
       "| 50497.06  | 1304.466  | -2755.515 | \n",
       "| 54964.62  | 1397.280  | -3455.741 | \n",
       "\n",
       "\n"
      ],
      "text/plain": [
       "      [,1]     [,2]     [,3]     \n",
       " [1,] 37201.24 1506.107 -2352.758\n",
       " [2,] 54757.45 1371.287 -3509.463\n",
       " [3,] 59008.27 1369.881 -3781.906\n",
       " [4,] 67038.23 1335.868 -4304.832\n",
       " [5,] 42410.91 1508.526 -2673.438\n",
       " [6,] 48352.36 1262.562 -2362.786\n",
       " [7,] 58676.85 1306.347 -3590.653\n",
       " [8,] 66788.10 1253.962 -3955.556\n",
       " [9,] 50497.06 1304.466 -2755.515\n",
       "[10,] 54964.62 1397.280 -3455.741"
      ]
     },
     "metadata": {},
     "output_type": "display_data"
    }
   ],
   "source": [
    "store.betas"
   ]
  },
  {
   "cell_type": "code",
   "execution_count": null,
   "metadata": {},
   "outputs": [],
   "source": [
    "df.betas <- as.data.frame(as.table(store.betas))\n",
    "write.csv(df.betas, file = \"betas.csv\")\n"
   ]
  },
  {
   "cell_type": "code",
   "execution_count": null,
   "metadata": {},
   "outputs": [],
   "source": []
  }
 ],
 "metadata": {
  "kernelspec": {
   "display_name": "R",
   "language": "R",
   "name": "ir"
  },
  "language_info": {
   "codemirror_mode": "r",
   "file_extension": ".r",
   "mimetype": "text/x-r-source",
   "name": "R",
   "pygments_lexer": "r",
   "version": "3.5.2"
  }
 },
 "nbformat": 4,
 "nbformat_minor": 2
}
